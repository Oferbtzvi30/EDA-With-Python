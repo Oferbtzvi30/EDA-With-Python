{
 "cells": [
  {
   "cell_type": "code",
   "execution_count": 28,
   "id": "5fddf59c",
   "metadata": {},
   "outputs": [
    {
     "name": "stdout",
     "output_type": "stream",
     "text": [
      "Collecting seaborn\n",
      "  Downloading seaborn-0.11.2-py3-none-any.whl (292 kB)\n",
      "Requirement already satisfied: matplotlib>=2.2 in c:\\users\\ofer\\appdata\\local\\programs\\python\\python310\\lib\\site-packages (from seaborn) (3.5.0)\n",
      "Requirement already satisfied: numpy>=1.15 in c:\\users\\ofer\\appdata\\local\\programs\\python\\python310\\lib\\site-packages (from seaborn) (1.21.4)\n",
      "Collecting scipy>=1.0\n",
      "  Downloading scipy-1.7.3-cp310-cp310-win_amd64.whl (34.3 MB)\n",
      "Requirement already satisfied: pandas>=0.23 in c:\\users\\ofer\\appdata\\local\\programs\\python\\python310\\lib\\site-packages (from seaborn) (1.3.4)\n",
      "Requirement already satisfied: packaging>=20.0 in c:\\users\\ofer\\appdata\\local\\programs\\python\\python310\\lib\\site-packages (from matplotlib>=2.2->seaborn) (21.3)\n",
      "Requirement already satisfied: pyparsing>=2.2.1 in c:\\users\\ofer\\appdata\\local\\programs\\python\\python310\\lib\\site-packages (from matplotlib>=2.2->seaborn) (3.0.6)\n",
      "Requirement already satisfied: pillow>=6.2.0 in c:\\users\\ofer\\appdata\\local\\programs\\python\\python310\\lib\\site-packages (from matplotlib>=2.2->seaborn) (8.4.0)\n",
      "Requirement already satisfied: setuptools-scm>=4 in c:\\users\\ofer\\appdata\\local\\programs\\python\\python310\\lib\\site-packages (from matplotlib>=2.2->seaborn) (6.3.2)\n",
      "Requirement already satisfied: kiwisolver>=1.0.1 in c:\\users\\ofer\\appdata\\local\\programs\\python\\python310\\lib\\site-packages (from matplotlib>=2.2->seaborn) (1.3.2)\n",
      "Requirement already satisfied: cycler>=0.10 in c:\\users\\ofer\\appdata\\local\\programs\\python\\python310\\lib\\site-packages (from matplotlib>=2.2->seaborn) (0.11.0)\n",
      "Requirement already satisfied: python-dateutil>=2.7 in c:\\users\\ofer\\appdata\\local\\programs\\python\\python310\\lib\\site-packages (from matplotlib>=2.2->seaborn) (2.8.2)\n",
      "Requirement already satisfied: fonttools>=4.22.0 in c:\\users\\ofer\\appdata\\local\\programs\\python\\python310\\lib\\site-packages (from matplotlib>=2.2->seaborn) (4.28.2)\n",
      "Requirement already satisfied: pytz>=2017.3 in c:\\users\\ofer\\appdata\\local\\programs\\python\\python310\\lib\\site-packages (from pandas>=0.23->seaborn) (2021.3)\n",
      "Requirement already satisfied: six>=1.5 in c:\\users\\ofer\\appdata\\local\\programs\\python\\python310\\lib\\site-packages (from python-dateutil>=2.7->matplotlib>=2.2->seaborn) (1.16.0)\n",
      "Requirement already satisfied: setuptools in c:\\users\\ofer\\appdata\\local\\programs\\python\\python310\\lib\\site-packages (from setuptools-scm>=4->matplotlib>=2.2->seaborn) (57.4.0)\n",
      "Requirement already satisfied: tomli>=1.0.0 in c:\\users\\ofer\\appdata\\local\\programs\\python\\python310\\lib\\site-packages (from setuptools-scm>=4->matplotlib>=2.2->seaborn) (1.2.2)\n",
      "Installing collected packages: scipy, seaborn\n",
      "Successfully installed scipy-1.7.3 seaborn-0.11.2\n"
     ]
    }
   ],
   "source": [
    "!pip install seaborn"
   ]
  },
  {
   "cell_type": "code",
   "execution_count": 67,
   "id": "0dbe1278",
   "metadata": {},
   "outputs": [],
   "source": [
    "import pandas as pd\n",
    "import numpy as np\n",
    "import matplotlib.pyplot as plt\n",
    "import datetime as dt\n",
    "import seaborn as sns\n",
    "import pandas_datareader as pdr\n",
    "import yfinance as yf"
   ]
  },
  {
   "cell_type": "code",
   "execution_count": 68,
   "id": "28d1215e",
   "metadata": {},
   "outputs": [],
   "source": [
    "from matplotlib import rcParams"
   ]
  },
  {
   "cell_type": "code",
   "execution_count": 11,
   "id": "9b5d3786",
   "metadata": {},
   "outputs": [],
   "source": [
    "Netflix = pd.read_csv(\"https://raw.githubusercontent.com/Oferbtzvi30/Netflix-behavior/main/netflix-rotten-tomatoes-metacritic-imdb.csv\")"
   ]
  },
  {
   "cell_type": "code",
   "execution_count": 12,
   "id": "981256e9",
   "metadata": {},
   "outputs": [
    {
     "name": "stdout",
     "output_type": "stream",
     "text": [
      "<class 'pandas.core.frame.DataFrame'>\n",
      "RangeIndex: 15480 entries, 0 to 15479\n",
      "Data columns (total 29 columns):\n",
      " #   Column                 Non-Null Count  Dtype  \n",
      "---  ------                 --------------  -----  \n",
      " 0   Title                  15480 non-null  object \n",
      " 1   Genre                  13770 non-null  object \n",
      " 2   Tags                   15413 non-null  object \n",
      " 3   Languages              13545 non-null  object \n",
      " 4   Series or Movie        15480 non-null  object \n",
      " 5   Hidden Gem Score       13379 non-null  float64\n",
      " 6   Country Availability   15461 non-null  object \n",
      " 7   Runtime                15479 non-null  object \n",
      " 8   Director               10772 non-null  object \n",
      " 9   Writer                 11150 non-null  object \n",
      " 10  Actors                 13555 non-null  object \n",
      " 11  View Rating            8456 non-null   object \n",
      " 12  IMDb Score             13381 non-null  float64\n",
      " 13  Rotten Tomatoes Score  6382 non-null   float64\n",
      " 14  Metacritic Score       4336 non-null   float64\n",
      " 15  Awards Received        6075 non-null   float64\n",
      " 16  Awards Nominated For   7661 non-null   float64\n",
      " 17  Boxoffice              4007 non-null   object \n",
      " 18  Release Date           13373 non-null  object \n",
      " 19  Netflix Release Date   15480 non-null  object \n",
      " 20  Production House       5149 non-null   object \n",
      " 21  Netflix Link           15480 non-null  object \n",
      " 22  IMDb Link              13177 non-null  object \n",
      " 23  Summary                15471 non-null  object \n",
      " 24  IMDb Votes             13379 non-null  float64\n",
      " 25  Image                  15480 non-null  object \n",
      " 26  Poster                 11842 non-null  object \n",
      " 27  TMDb Trailer           7194 non-null   object \n",
      " 28  Trailer Site           7194 non-null   object \n",
      "dtypes: float64(7), object(22)\n",
      "memory usage: 3.4+ MB\n"
     ]
    }
   ],
   "source": [
    "Netflix.info(memory_usage='depp')"
   ]
  },
  {
   "cell_type": "code",
   "execution_count": 13,
   "id": "1e744cfd",
   "metadata": {},
   "outputs": [],
   "source": [
    "netflix = Netflix = pd.read_csv(\"https://raw.githubusercontent.com/Oferbtzvi30/Netflix-behavior/main/netflix-rotten-tomatoes-metacritic-imdb.csv\")\n",
    "netflix['Release Date']= pd.to_datetime(netflix['Release Date'])\n",
    "netflix['Netflix Release Date']= pd.to_datetime(netflix['Netflix Release Date'])"
   ]
  },
  {
   "cell_type": "code",
   "execution_count": 14,
   "id": "9e3656b8",
   "metadata": {},
   "outputs": [
    {
     "data": {
      "text/html": [
       "<div>\n",
       "<style scoped>\n",
       "    .dataframe tbody tr th:only-of-type {\n",
       "        vertical-align: middle;\n",
       "    }\n",
       "\n",
       "    .dataframe tbody tr th {\n",
       "        vertical-align: top;\n",
       "    }\n",
       "\n",
       "    .dataframe thead th {\n",
       "        text-align: right;\n",
       "    }\n",
       "</style>\n",
       "<table border=\"1\" class=\"dataframe\">\n",
       "  <thead>\n",
       "    <tr style=\"text-align: right;\">\n",
       "      <th></th>\n",
       "      <th>Title</th>\n",
       "      <th>Genre</th>\n",
       "      <th>Tags</th>\n",
       "      <th>Languages</th>\n",
       "      <th>Series or Movie</th>\n",
       "      <th>Hidden Gem Score</th>\n",
       "      <th>Country Availability</th>\n",
       "      <th>Runtime</th>\n",
       "      <th>Director</th>\n",
       "      <th>Writer</th>\n",
       "      <th>...</th>\n",
       "      <th>Netflix Release Date</th>\n",
       "      <th>Production House</th>\n",
       "      <th>Netflix Link</th>\n",
       "      <th>IMDb Link</th>\n",
       "      <th>Summary</th>\n",
       "      <th>IMDb Votes</th>\n",
       "      <th>Image</th>\n",
       "      <th>Poster</th>\n",
       "      <th>TMDb Trailer</th>\n",
       "      <th>Trailer Site</th>\n",
       "    </tr>\n",
       "  </thead>\n",
       "  <tbody>\n",
       "    <tr>\n",
       "      <th>0</th>\n",
       "      <td>Lets Fight Ghost</td>\n",
       "      <td>Crime, Drama, Fantasy, Horror, Romance</td>\n",
       "      <td>Comedy Programmes,Romantic TV Comedies,Horror ...</td>\n",
       "      <td>Swedish, Spanish</td>\n",
       "      <td>Series</td>\n",
       "      <td>4.3</td>\n",
       "      <td>Thailand</td>\n",
       "      <td>&lt; 30 minutes</td>\n",
       "      <td>Tomas Alfredson</td>\n",
       "      <td>John Ajvide Lindqvist</td>\n",
       "      <td>...</td>\n",
       "      <td>2021-03-04</td>\n",
       "      <td>Canal+, Sandrew Metronome</td>\n",
       "      <td>https://www.netflix.com/watch/81415947</td>\n",
       "      <td>https://www.imdb.com/title/tt1139797</td>\n",
       "      <td>A med student with a supernatural gift tries t...</td>\n",
       "      <td>205926.0</td>\n",
       "      <td>https://occ-0-4708-64.1.nflxso.net/dnm/api/v6/...</td>\n",
       "      <td>https://m.media-amazon.com/images/M/MV5BOWM4NT...</td>\n",
       "      <td>NaN</td>\n",
       "      <td>NaN</td>\n",
       "    </tr>\n",
       "    <tr>\n",
       "      <th>1</th>\n",
       "      <td>HOW TO BUILD A GIRL</td>\n",
       "      <td>Comedy</td>\n",
       "      <td>Dramas,Comedies,Films Based on Books,British</td>\n",
       "      <td>English</td>\n",
       "      <td>Movie</td>\n",
       "      <td>7.0</td>\n",
       "      <td>Canada</td>\n",
       "      <td>1-2 hour</td>\n",
       "      <td>Coky Giedroyc</td>\n",
       "      <td>Caitlin Moran</td>\n",
       "      <td>...</td>\n",
       "      <td>2021-03-04</td>\n",
       "      <td>Film 4, Monumental Pictures, Lionsgate</td>\n",
       "      <td>https://www.netflix.com/watch/81041267</td>\n",
       "      <td>https://www.imdb.com/title/tt4193072</td>\n",
       "      <td>When nerdy Johanna moves to London, things get...</td>\n",
       "      <td>2838.0</td>\n",
       "      <td>https://occ-0-1081-999.1.nflxso.net/dnm/api/v6...</td>\n",
       "      <td>https://m.media-amazon.com/images/M/MV5BZGUyN2...</td>\n",
       "      <td>https://www.youtube.com/watch?v=eIbcxPy4okQ</td>\n",
       "      <td>YouTube</td>\n",
       "    </tr>\n",
       "    <tr>\n",
       "      <th>2</th>\n",
       "      <td>Centigrade</td>\n",
       "      <td>Drama, Thriller</td>\n",
       "      <td>Thrillers</td>\n",
       "      <td>English</td>\n",
       "      <td>Movie</td>\n",
       "      <td>6.4</td>\n",
       "      <td>Canada</td>\n",
       "      <td>1-2 hour</td>\n",
       "      <td>Brendan Walsh</td>\n",
       "      <td>Brendan Walsh, Daley Nixon</td>\n",
       "      <td>...</td>\n",
       "      <td>2021-03-04</td>\n",
       "      <td>NaN</td>\n",
       "      <td>https://www.netflix.com/watch/81305978</td>\n",
       "      <td>https://www.imdb.com/title/tt8945942</td>\n",
       "      <td>Trapped in a frozen car during a blizzard, a p...</td>\n",
       "      <td>1720.0</td>\n",
       "      <td>https://occ-0-1081-999.1.nflxso.net/dnm/api/v6...</td>\n",
       "      <td>https://m.media-amazon.com/images/M/MV5BODM2MD...</td>\n",
       "      <td>https://www.youtube.com/watch?v=0RvV7TNUlkQ</td>\n",
       "      <td>YouTube</td>\n",
       "    </tr>\n",
       "  </tbody>\n",
       "</table>\n",
       "<p>3 rows × 29 columns</p>\n",
       "</div>"
      ],
      "text/plain": [
       "                 Title                                   Genre  \\\n",
       "0     Lets Fight Ghost  Crime, Drama, Fantasy, Horror, Romance   \n",
       "1  HOW TO BUILD A GIRL                                  Comedy   \n",
       "2           Centigrade                         Drama, Thriller   \n",
       "\n",
       "                                                Tags         Languages  \\\n",
       "0  Comedy Programmes,Romantic TV Comedies,Horror ...  Swedish, Spanish   \n",
       "1       Dramas,Comedies,Films Based on Books,British           English   \n",
       "2                                          Thrillers           English   \n",
       "\n",
       "  Series or Movie  Hidden Gem Score Country Availability       Runtime  \\\n",
       "0          Series               4.3             Thailand  < 30 minutes   \n",
       "1           Movie               7.0               Canada      1-2 hour   \n",
       "2           Movie               6.4               Canada      1-2 hour   \n",
       "\n",
       "          Director                      Writer  ... Netflix Release Date  \\\n",
       "0  Tomas Alfredson       John Ajvide Lindqvist  ...           2021-03-04   \n",
       "1    Coky Giedroyc               Caitlin Moran  ...           2021-03-04   \n",
       "2    Brendan Walsh  Brendan Walsh, Daley Nixon  ...           2021-03-04   \n",
       "\n",
       "                         Production House  \\\n",
       "0               Canal+, Sandrew Metronome   \n",
       "1  Film 4, Monumental Pictures, Lionsgate   \n",
       "2                                     NaN   \n",
       "\n",
       "                             Netflix Link  \\\n",
       "0  https://www.netflix.com/watch/81415947   \n",
       "1  https://www.netflix.com/watch/81041267   \n",
       "2  https://www.netflix.com/watch/81305978   \n",
       "\n",
       "                              IMDb Link  \\\n",
       "0  https://www.imdb.com/title/tt1139797   \n",
       "1  https://www.imdb.com/title/tt4193072   \n",
       "2  https://www.imdb.com/title/tt8945942   \n",
       "\n",
       "                                             Summary  IMDb Votes  \\\n",
       "0  A med student with a supernatural gift tries t...    205926.0   \n",
       "1  When nerdy Johanna moves to London, things get...      2838.0   \n",
       "2  Trapped in a frozen car during a blizzard, a p...      1720.0   \n",
       "\n",
       "                                               Image  \\\n",
       "0  https://occ-0-4708-64.1.nflxso.net/dnm/api/v6/...   \n",
       "1  https://occ-0-1081-999.1.nflxso.net/dnm/api/v6...   \n",
       "2  https://occ-0-1081-999.1.nflxso.net/dnm/api/v6...   \n",
       "\n",
       "                                              Poster  \\\n",
       "0  https://m.media-amazon.com/images/M/MV5BOWM4NT...   \n",
       "1  https://m.media-amazon.com/images/M/MV5BZGUyN2...   \n",
       "2  https://m.media-amazon.com/images/M/MV5BODM2MD...   \n",
       "\n",
       "                                  TMDb Trailer Trailer Site  \n",
       "0                                          NaN          NaN  \n",
       "1  https://www.youtube.com/watch?v=eIbcxPy4okQ      YouTube  \n",
       "2  https://www.youtube.com/watch?v=0RvV7TNUlkQ      YouTube  \n",
       "\n",
       "[3 rows x 29 columns]"
      ]
     },
     "execution_count": 14,
     "metadata": {},
     "output_type": "execute_result"
    }
   ],
   "source": [
    "netflix.head(3)"
   ]
  },
  {
   "cell_type": "markdown",
   "id": "dae9d169",
   "metadata": {},
   "source": [
    "How many rows and columns there are in this data set?"
   ]
  },
  {
   "cell_type": "code",
   "execution_count": 16,
   "id": "9037faff",
   "metadata": {},
   "outputs": [
    {
     "data": {
      "text/plain": [
       "(15480, 29)"
      ]
     },
     "execution_count": 16,
     "metadata": {},
     "output_type": "execute_result"
    }
   ],
   "source": [
    "netflix.shape"
   ]
  },
  {
   "cell_type": "markdown",
   "id": "c867476d",
   "metadata": {},
   "source": [
    "Before we analysing the data it's importanat to understand the data, here we going to find the percentage of missing values in each columns."
   ]
  },
  {
   "cell_type": "code",
   "execution_count": 18,
   "id": "b0fc8be2",
   "metadata": {},
   "outputs": [
    {
     "data": {
      "text/plain": [
       "Title                     0.0\n",
       "Genre                    11.0\n",
       "Tags                      0.4\n",
       "Languages                12.5\n",
       "Series or Movie           0.0\n",
       "Hidden Gem Score         13.6\n",
       "Country Availability      0.1\n",
       "Runtime                   0.0\n",
       "Director                 30.4\n",
       "Writer                   28.0\n",
       "Actors                   12.4\n",
       "View Rating              45.4\n",
       "IMDb Score               13.6\n",
       "Rotten Tomatoes Score    58.8\n",
       "Metacritic Score         72.0\n",
       "Awards Received          60.8\n",
       "Awards Nominated For     50.5\n",
       "Boxoffice                74.1\n",
       "Release Date             13.6\n",
       "Netflix Release Date      0.0\n",
       "Production House         66.7\n",
       "Netflix Link              0.0\n",
       "IMDb Link                14.9\n",
       "Summary                   0.1\n",
       "IMDb Votes               13.6\n",
       "Image                     0.0\n",
       "Poster                   23.5\n",
       "TMDb Trailer             53.5\n",
       "Trailer Site             53.5\n",
       "dtype: float64"
      ]
     },
     "execution_count": 18,
     "metadata": {},
     "output_type": "execute_result"
    }
   ],
   "source": [
    "netflix.isnull().mean().round(3) * 100"
   ]
  },
  {
   "cell_type": "markdown",
   "id": "e41f6027",
   "metadata": {},
   "source": [
    "As we can see there are many missing values in the various features so I decide to keep the most important columns in my opinion, even if they have different missing values that we will then remove, and to drop other columns that I consider superfluous for the analysis also for the large number of missing values they have;"
   ]
  },
  {
   "cell_type": "code",
   "execution_count": 19,
   "id": "97c124e7",
   "metadata": {},
   "outputs": [],
   "source": [
    "nt = netflix.drop(columns=['Production House','Boxoffice','Metacritic Score','Image','Poster','Netflix Link','IMDb Link','Trailer Site','TMDb Trailer'])"
   ]
  },
  {
   "cell_type": "code",
   "execution_count": 20,
   "id": "7b4a0e12",
   "metadata": {},
   "outputs": [
    {
     "data": {
      "text/html": [
       "<div>\n",
       "<style scoped>\n",
       "    .dataframe tbody tr th:only-of-type {\n",
       "        vertical-align: middle;\n",
       "    }\n",
       "\n",
       "    .dataframe tbody tr th {\n",
       "        vertical-align: top;\n",
       "    }\n",
       "\n",
       "    .dataframe thead th {\n",
       "        text-align: right;\n",
       "    }\n",
       "</style>\n",
       "<table border=\"1\" class=\"dataframe\">\n",
       "  <thead>\n",
       "    <tr style=\"text-align: right;\">\n",
       "      <th></th>\n",
       "      <th>title</th>\n",
       "      <th>genre</th>\n",
       "      <th>tags</th>\n",
       "      <th>languages</th>\n",
       "      <th>series_or_movie</th>\n",
       "      <th>hidden_gem_score</th>\n",
       "      <th>country_availability</th>\n",
       "      <th>runtime</th>\n",
       "      <th>director</th>\n",
       "      <th>writer</th>\n",
       "      <th>actors</th>\n",
       "      <th>view_rating</th>\n",
       "      <th>imdb_score</th>\n",
       "      <th>rotten_tomatoes_score</th>\n",
       "      <th>awards_received</th>\n",
       "      <th>awards_nominated_for</th>\n",
       "      <th>release_date</th>\n",
       "      <th>netflix_release_date</th>\n",
       "      <th>summary</th>\n",
       "      <th>imdb_votes</th>\n",
       "    </tr>\n",
       "  </thead>\n",
       "  <tbody>\n",
       "    <tr>\n",
       "      <th>0</th>\n",
       "      <td>lets fight ghost</td>\n",
       "      <td>crime, drama, fantasy, horror, romance</td>\n",
       "      <td>comedy programmes,romantic tv comedies,horror ...</td>\n",
       "      <td>swedish, spanish</td>\n",
       "      <td>series</td>\n",
       "      <td>4.3</td>\n",
       "      <td>thailand</td>\n",
       "      <td>&lt; 30 minutes</td>\n",
       "      <td>tomas alfredson</td>\n",
       "      <td>john ajvide lindqvist</td>\n",
       "      <td>kåre hedebrant, per ragnar, lina leandersson, ...</td>\n",
       "      <td>r</td>\n",
       "      <td>7.9</td>\n",
       "      <td>98.0</td>\n",
       "      <td>74.0</td>\n",
       "      <td>57.0</td>\n",
       "      <td>2008-12-12</td>\n",
       "      <td>2021-03-04</td>\n",
       "      <td>a med student with a supernatural gift tries t...</td>\n",
       "      <td>205926.0</td>\n",
       "    </tr>\n",
       "  </tbody>\n",
       "</table>\n",
       "</div>"
      ],
      "text/plain": [
       "              title                                   genre  \\\n",
       "0  lets fight ghost  crime, drama, fantasy, horror, romance   \n",
       "\n",
       "                                                tags         languages  \\\n",
       "0  comedy programmes,romantic tv comedies,horror ...  swedish, spanish   \n",
       "\n",
       "  series_or_movie  hidden_gem_score country_availability       runtime  \\\n",
       "0          series               4.3             thailand  < 30 minutes   \n",
       "\n",
       "          director                 writer  \\\n",
       "0  tomas alfredson  john ajvide lindqvist   \n",
       "\n",
       "                                              actors view_rating  imdb_score  \\\n",
       "0  kåre hedebrant, per ragnar, lina leandersson, ...           r         7.9   \n",
       "\n",
       "   rotten_tomatoes_score  awards_received  awards_nominated_for release_date  \\\n",
       "0                   98.0             74.0                  57.0   2008-12-12   \n",
       "\n",
       "  netflix_release_date                                            summary  \\\n",
       "0           2021-03-04  a med student with a supernatural gift tries t...   \n",
       "\n",
       "   imdb_votes  \n",
       "0    205926.0  "
      ]
     },
     "execution_count": 20,
     "metadata": {},
     "output_type": "execute_result"
    }
   ],
   "source": [
    "for column in nt.columns:\n",
    "  nt.rename(columns = {column:column.replace(' ', '_').lower()}, inplace=True)\n",
    "\n",
    "for column in nt.select_dtypes(object).columns:\n",
    "  nt[column] = nt[column].str.strip().str.lower()\n",
    "\n",
    "nt.head(1)"
   ]
  },
  {
   "cell_type": "code",
   "execution_count": 22,
   "id": "9b2b313b",
   "metadata": {},
   "outputs": [
    {
     "data": {
      "text/plain": [
       "comedy                                                                                     1152\n",
       "drama                                                                                       951\n",
       "documentary                                                                                 441\n",
       "comedy, drama                                                                               423\n",
       "comedy, romance                                                                             412\n",
       "                                                                                           ... \n",
       "animation, comedy, sci-fi                                                                     1\n",
       "animation, comedy, drama, music, musical, romance                                             1\n",
       "action, drama, fantasy, horror, thriller                                                      1\n",
       "animation, action, adventure, comedy, crime, family, fantasy, mystery, sci-fi, thriller       1\n",
       "adventure, drama, fantasy, romance, thriller                                                  1\n",
       "Name: genre, Length: 1748, dtype: int64"
      ]
     },
     "execution_count": 22,
     "metadata": {},
     "output_type": "execute_result"
    }
   ],
   "source": [
    "df_genre = nt[\"genre\"].value_counts()\n",
    "df_genre"
   ]
  },
  {
   "cell_type": "code",
   "execution_count": 36,
   "id": "e1833a72",
   "metadata": {},
   "outputs": [],
   "source": [
    "df = nt['netflix_release_date'] < '2021-01-01'\n",
    "nt=nt[df]"
   ]
  },
  {
   "cell_type": "code",
   "execution_count": 37,
   "id": "856cee33",
   "metadata": {},
   "outputs": [
    {
     "data": {
      "text/html": [
       "<div>\n",
       "<style scoped>\n",
       "    .dataframe tbody tr th:only-of-type {\n",
       "        vertical-align: middle;\n",
       "    }\n",
       "\n",
       "    .dataframe tbody tr th {\n",
       "        vertical-align: top;\n",
       "    }\n",
       "\n",
       "    .dataframe thead th {\n",
       "        text-align: right;\n",
       "    }\n",
       "</style>\n",
       "<table border=\"1\" class=\"dataframe\">\n",
       "  <thead>\n",
       "    <tr style=\"text-align: right;\">\n",
       "      <th></th>\n",
       "      <th>title</th>\n",
       "      <th>genre</th>\n",
       "      <th>tags</th>\n",
       "      <th>languages</th>\n",
       "      <th>series_or_movie</th>\n",
       "      <th>hidden_gem_score</th>\n",
       "      <th>country_availability</th>\n",
       "      <th>runtime</th>\n",
       "      <th>director</th>\n",
       "      <th>writer</th>\n",
       "      <th>...</th>\n",
       "      <th>awards_received</th>\n",
       "      <th>awards_nominated_for</th>\n",
       "      <th>release_date</th>\n",
       "      <th>netflix_release_date</th>\n",
       "      <th>summary</th>\n",
       "      <th>imdb_votes</th>\n",
       "      <th>netflix_release_date_year</th>\n",
       "      <th>netflix_release_date_quarter</th>\n",
       "      <th>month_added</th>\n",
       "      <th>day_added</th>\n",
       "    </tr>\n",
       "  </thead>\n",
       "  <tbody>\n",
       "    <tr>\n",
       "      <th>434</th>\n",
       "      <td>mighty oak</td>\n",
       "      <td>comedy, drama</td>\n",
       "      <td>dramas,us movies</td>\n",
       "      <td>english</td>\n",
       "      <td>movie</td>\n",
       "      <td>7.3</td>\n",
       "      <td>south korea,australia</td>\n",
       "      <td>1-2 hour</td>\n",
       "      <td>sean mcnamara</td>\n",
       "      <td>matt allen</td>\n",
       "      <td>...</td>\n",
       "      <td>NaN</td>\n",
       "      <td>NaN</td>\n",
       "      <td>2020-07-07</td>\n",
       "      <td>2020-12-31</td>\n",
       "      <td>as she continues to grapple with the loss of h...</td>\n",
       "      <td>244.0</td>\n",
       "      <td>2020</td>\n",
       "      <td>4</td>\n",
       "      <td>12</td>\n",
       "      <td>31</td>\n",
       "    </tr>\n",
       "    <tr>\n",
       "      <th>435</th>\n",
       "      <td>heroes reborn</td>\n",
       "      <td>drama, fantasy, sci-fi, thriller</td>\n",
       "      <td>tv dramas,us tv shows,fantasy tv shows,sci-fi tv</td>\n",
       "      <td>english</td>\n",
       "      <td>series</td>\n",
       "      <td>3.4</td>\n",
       "      <td>japan</td>\n",
       "      <td>&lt; 30 minutes</td>\n",
       "      <td>NaN</td>\n",
       "      <td>tim kring</td>\n",
       "      <td>...</td>\n",
       "      <td>NaN</td>\n",
       "      <td>5.0</td>\n",
       "      <td>2015-09-24</td>\n",
       "      <td>2020-12-31</td>\n",
       "      <td>as the world faces terrifying threats, a growi...</td>\n",
       "      <td>26662.0</td>\n",
       "      <td>2020</td>\n",
       "      <td>4</td>\n",
       "      <td>12</td>\n",
       "      <td>31</td>\n",
       "    </tr>\n",
       "  </tbody>\n",
       "</table>\n",
       "<p>2 rows × 24 columns</p>\n",
       "</div>"
      ],
      "text/plain": [
       "             title                             genre  \\\n",
       "434     mighty oak                     comedy, drama   \n",
       "435  heroes reborn  drama, fantasy, sci-fi, thriller   \n",
       "\n",
       "                                                 tags languages  \\\n",
       "434                                  dramas,us movies   english   \n",
       "435  tv dramas,us tv shows,fantasy tv shows,sci-fi tv   english   \n",
       "\n",
       "    series_or_movie  hidden_gem_score   country_availability       runtime  \\\n",
       "434           movie               7.3  south korea,australia      1-2 hour   \n",
       "435          series               3.4                  japan  < 30 minutes   \n",
       "\n",
       "          director      writer  ... awards_received awards_nominated_for  \\\n",
       "434  sean mcnamara  matt allen  ...             NaN                  NaN   \n",
       "435            NaN   tim kring  ...             NaN                  5.0   \n",
       "\n",
       "     release_date  netflix_release_date  \\\n",
       "434    2020-07-07            2020-12-31   \n",
       "435    2015-09-24            2020-12-31   \n",
       "\n",
       "                                               summary  imdb_votes  \\\n",
       "434  as she continues to grapple with the loss of h...       244.0   \n",
       "435  as the world faces terrifying threats, a growi...     26662.0   \n",
       "\n",
       "    netflix_release_date_year netflix_release_date_quarter month_added  \\\n",
       "434                      2020                            4          12   \n",
       "435                      2020                            4          12   \n",
       "\n",
       "     day_added  \n",
       "434         31  \n",
       "435         31  \n",
       "\n",
       "[2 rows x 24 columns]"
      ]
     },
     "execution_count": 37,
     "metadata": {},
     "output_type": "execute_result"
    }
   ],
   "source": [
    "nt['month_added'] = nt['netflix_release_date'].dt.month\n",
    "nt['day_added'] = nt['netflix_release_date'].dt.day\n",
    "nt.head(2)"
   ]
  },
  {
   "cell_type": "markdown",
   "id": "a09514b4",
   "metadata": {},
   "source": [
    "Title: Tells us the name of the movie / series\n",
    "Genre: Describes the genre of the movie / series\n",
    "Tag: is a list of tags on the movie / series\n",
    "Language: Indicates in which language the film / series is available\n",
    "Series or Movie: Indicates whether this product is a TV series or a movie\n",
    "Hidden Gem Score: This is a score that suggests if this movie / series is a hidden gem (i.e. something that is not mainstream but is a great product and may deserve more attention)\n",
    "Country Availability: Please indicate in which country this film / series is available\n",
    "Runtime: Indicates the duration of the movie or an episode of the series\n",
    "Director: Tells us how is the director of this product\n",
    "Writer: Tells us how is the writer of this product,\n",
    "Actors:Tells us how are the main actors of this product,\n",
    "View Rating: Indicates the rating of the product,\n",
    "IMDb Score: This is the score given to the product by IMDb, Rotten Tomatoes Score: This is the score given to the product by Rotten Tomatoes,\n",
    "Awards Received: It tells us how much awards this film/serie has received ,\n",
    "Awards Nominated For: It tells us for which awards this film/movie has been nominated,\n",
    "Release Date: It indicates when this product has been released,\n",
    "Netflix Release Date: It indicates when this product has been released on Netflix,\n",
    "Summary: It tells us a little summary of the plot of the product,\n",
    "IMDb Votes: It indicates the scores given by IMDb,\n",
    "Image: An Image\n",
    "Released_Year: It indicates the year the product was released\n",
    "Released_Year_Net: It indicates the year the product was released on Netflix"
   ]
  },
  {
   "cell_type": "code",
   "execution_count": 24,
   "id": "53149292",
   "metadata": {},
   "outputs": [
    {
     "data": {
      "text/html": [
       "<div>\n",
       "<style scoped>\n",
       "    .dataframe tbody tr th:only-of-type {\n",
       "        vertical-align: middle;\n",
       "    }\n",
       "\n",
       "    .dataframe tbody tr th {\n",
       "        vertical-align: top;\n",
       "    }\n",
       "\n",
       "    .dataframe thead th {\n",
       "        text-align: right;\n",
       "    }\n",
       "</style>\n",
       "<table border=\"1\" class=\"dataframe\">\n",
       "  <thead>\n",
       "    <tr style=\"text-align: right;\">\n",
       "      <th></th>\n",
       "      <th>title</th>\n",
       "      <th>genre</th>\n",
       "      <th>tags</th>\n",
       "      <th>languages</th>\n",
       "      <th>series_or_movie</th>\n",
       "      <th>hidden_gem_score</th>\n",
       "      <th>country_availability</th>\n",
       "      <th>runtime</th>\n",
       "      <th>director</th>\n",
       "      <th>writer</th>\n",
       "      <th>...</th>\n",
       "      <th>imdb_score</th>\n",
       "      <th>rotten_tomatoes_score</th>\n",
       "      <th>awards_received</th>\n",
       "      <th>awards_nominated_for</th>\n",
       "      <th>release_date</th>\n",
       "      <th>netflix_release_date</th>\n",
       "      <th>summary</th>\n",
       "      <th>imdb_votes</th>\n",
       "      <th>netflix_release_date_year</th>\n",
       "      <th>netflix_release_date_quarter</th>\n",
       "    </tr>\n",
       "  </thead>\n",
       "  <tbody>\n",
       "    <tr>\n",
       "      <th>434</th>\n",
       "      <td>mighty oak</td>\n",
       "      <td>comedy, drama</td>\n",
       "      <td>dramas,us movies</td>\n",
       "      <td>english</td>\n",
       "      <td>movie</td>\n",
       "      <td>7.3</td>\n",
       "      <td>south korea,australia</td>\n",
       "      <td>1-2 hour</td>\n",
       "      <td>sean mcnamara</td>\n",
       "      <td>matt allen</td>\n",
       "      <td>...</td>\n",
       "      <td>4.8</td>\n",
       "      <td>NaN</td>\n",
       "      <td>NaN</td>\n",
       "      <td>NaN</td>\n",
       "      <td>2020-07-07</td>\n",
       "      <td>2020-12-31</td>\n",
       "      <td>as she continues to grapple with the loss of h...</td>\n",
       "      <td>244.0</td>\n",
       "      <td>2020</td>\n",
       "      <td>4</td>\n",
       "    </tr>\n",
       "    <tr>\n",
       "      <th>435</th>\n",
       "      <td>heroes reborn</td>\n",
       "      <td>drama, fantasy, sci-fi, thriller</td>\n",
       "      <td>tv dramas,us tv shows,fantasy tv shows,sci-fi tv</td>\n",
       "      <td>english</td>\n",
       "      <td>series</td>\n",
       "      <td>3.4</td>\n",
       "      <td>japan</td>\n",
       "      <td>&lt; 30 minutes</td>\n",
       "      <td>NaN</td>\n",
       "      <td>tim kring</td>\n",
       "      <td>...</td>\n",
       "      <td>6.7</td>\n",
       "      <td>NaN</td>\n",
       "      <td>NaN</td>\n",
       "      <td>5.0</td>\n",
       "      <td>2015-09-24</td>\n",
       "      <td>2020-12-31</td>\n",
       "      <td>as the world faces terrifying threats, a growi...</td>\n",
       "      <td>26662.0</td>\n",
       "      <td>2020</td>\n",
       "      <td>4</td>\n",
       "    </tr>\n",
       "  </tbody>\n",
       "</table>\n",
       "<p>2 rows × 22 columns</p>\n",
       "</div>"
      ],
      "text/plain": [
       "             title                             genre  \\\n",
       "434     mighty oak                     comedy, drama   \n",
       "435  heroes reborn  drama, fantasy, sci-fi, thriller   \n",
       "\n",
       "                                                 tags languages  \\\n",
       "434                                  dramas,us movies   english   \n",
       "435  tv dramas,us tv shows,fantasy tv shows,sci-fi tv   english   \n",
       "\n",
       "    series_or_movie  hidden_gem_score   country_availability       runtime  \\\n",
       "434           movie               7.3  south korea,australia      1-2 hour   \n",
       "435          series               3.4                  japan  < 30 minutes   \n",
       "\n",
       "          director      writer  ... imdb_score rotten_tomatoes_score  \\\n",
       "434  sean mcnamara  matt allen  ...        4.8                   NaN   \n",
       "435            NaN   tim kring  ...        6.7                   NaN   \n",
       "\n",
       "     awards_received  awards_nominated_for  release_date  \\\n",
       "434              NaN                   NaN    2020-07-07   \n",
       "435              NaN                   5.0    2015-09-24   \n",
       "\n",
       "     netflix_release_date                                            summary  \\\n",
       "434            2020-12-31  as she continues to grapple with the loss of h...   \n",
       "435            2020-12-31  as the world faces terrifying threats, a growi...   \n",
       "\n",
       "    imdb_votes netflix_release_date_year  netflix_release_date_quarter  \n",
       "434      244.0                      2020                             4  \n",
       "435    26662.0                      2020                             4  \n",
       "\n",
       "[2 rows x 22 columns]"
      ]
     },
     "execution_count": 24,
     "metadata": {},
     "output_type": "execute_result"
    }
   ],
   "source": [
    "nt[\"netflix_release_date_year\"] = nt['netflix_release_date'].dt.year\n",
    "nt[\"netflix_release_date_quarter\"] = nt['netflix_release_date'].dt.quarter\n",
    "nt.head(2)"
   ]
  },
  {
   "cell_type": "markdown",
   "id": "0c76fcfe",
   "metadata": {},
   "source": [
    "Movie & Series - What's more?"
   ]
  },
  {
   "cell_type": "code",
   "execution_count": 25,
   "id": "1667fe42",
   "metadata": {},
   "outputs": [
    {
     "data": {
      "image/png": "[encoded data removed]",
      "text/plain": [
       "<Figure size 1080x360 with 1 Axes>"
      ]
     },
     "metadata": {},
     "output_type": "display_data"
    }
   ],
   "source": [
    "df= nt.groupby('series_or_movie').agg(sum_by_type = ('title','count')).sort_values('sum_by_type', ascending = False)\n",
    "\n",
    "rank_type = df['sum_by_type'].rank(method = 'dense', ascending = False)\n",
    "df['rank'] = rank_type\n",
    "\n",
    "df.plot(\n",
    "    y = 'sum_by_type',\n",
    "    kind = 'pie',\n",
    "    title = 'Movie & Series?',\n",
    "    legend = True,\n",
    "    figsize = (15,5),\n",
    "    shadow = True,\n",
    "    autopct = '%.2f')\n",
    "plt.axis('equal');"
   ]
  },
  {
   "cell_type": "code",
   "execution_count": 30,
   "id": "7060e0ef",
   "metadata": {},
   "outputs": [
    {
     "data": {
      "image/png": "[encoded data removed]",
      "text/plain": [
       "<Figure size 432x288 with 1 Axes>"
      ]
     },
     "metadata": {
      "needs_background": "light"
     },
     "output_type": "display_data"
    }
   ],
   "source": [
    "serices_movies = sns.countplot(x=\"series_or_movie\", data=nt)"
   ]
  },
  {
   "cell_type": "code",
   "execution_count": 31,
   "id": "7ea95e9e",
   "metadata": {},
   "outputs": [],
   "source": [
    "movies_netflix_filter = nt['series_or_movie'].str.contains(\"movie\",case = False)\n",
    "series_netflix_filter = nt['series_or_movie'].str.contains(\"series\",case = False)\n",
    "movies_netflix=nt[movies_netflix_filter]\n",
    "series_netflix=nt[series_netflix_filter]"
   ]
  },
  {
   "cell_type": "markdown",
   "id": "789bc79c",
   "metadata": {},
   "source": [
    "Distribution of rating ratings by movies"
   ]
  },
  {
   "cell_type": "code",
   "execution_count": 32,
   "id": "c56883f6",
   "metadata": {},
   "outputs": [
    {
     "data": {
      "image/png": "[encoded data removed]",
      "text/plain": [
       "<Figure size 864x720 with 1 Axes>"
      ]
     },
     "metadata": {
      "needs_background": "light"
     },
     "output_type": "display_data"
    }
   ],
   "source": [
    "plt.figure(figsize=(12,10))\n",
    "nt_movies = sns.countplot(x=\"view_rating\",data=movies_netflix,order=movies_netflix['view_rating'].value_counts().index[0:10])"
   ]
  },
  {
   "cell_type": "markdown",
   "id": "3c264b09",
   "metadata": {},
   "source": [
    "Distribution of rating ratings by series"
   ]
  },
  {
   "cell_type": "code",
   "execution_count": 33,
   "id": "238a162e",
   "metadata": {},
   "outputs": [
    {
     "data": {
      "image/png": "[encoded data removed]",
      "text/plain": [
       "<Figure size 864x720 with 1 Axes>"
      ]
     },
     "metadata": {
      "needs_background": "light"
     },
     "output_type": "display_data"
    }
   ],
   "source": [
    "plt.figure(figsize=(12,10))\n",
    "nt_series = sns.countplot(x=\"view_rating\",data=series_netflix,order=movies_netflix['view_rating'].value_counts().index[0:10])"
   ]
  },
  {
   "cell_type": "code",
   "execution_count": 34,
   "id": "5b309d3e",
   "metadata": {},
   "outputs": [
    {
     "data": {
      "image/png": "[encoded data removed]",
      "text/plain": [
       "<Figure size 1152x576 with 1 Axes>"
      ]
     },
     "metadata": {
      "needs_background": "light"
     },
     "output_type": "display_data"
    },
    {
     "data": {
      "image/png": "[encoded data removed]",
      "text/plain": [
       "<Figure size 1152x576 with 1 Axes>"
      ]
     },
     "metadata": {
      "needs_background": "light"
     },
     "output_type": "display_data"
    }
   ],
   "source": [
    "plt.subplot(2,2,1)\n",
    "net = movies_netflix['netflix_release_date_year'].value_counts()[:10].plot.bar(figsize=(16,8))\n",
    "plt.xticks(rotation = 0)\n",
    "plt.title('Number of Movies by Year on Netflix', pad = 12, fontsize = 12)\n",
    "plt.xlabel('Year', fontsize = 12)\n",
    "plt.ylabel('Amount',fontsize = 12)\n",
    "plt.show()\n",
    "\n",
    "\n",
    "plt.subplot(2,2,1)\n",
    "net = series_netflix['netflix_release_date_year'].value_counts()[:10].plot.bar(figsize=(16,8))\n",
    "plt.xticks(rotation = 0)\n",
    "plt.title('Number of series by Year on Netflix', pad = 12, fontsize = 12)\n",
    "plt.xlabel('Year', fontsize = 12)\n",
    "plt.ylabel('Amount',fontsize = 12)\n",
    "plt.show()"
   ]
  },
  {
   "cell_type": "code",
   "execution_count": 39,
   "id": "da40f7bd",
   "metadata": {},
   "outputs": [
    {
     "data": {
      "text/plain": [
       "<bound method Series.drop_duplicates of 434       movie\n",
       "435      series\n",
       "436       movie\n",
       "437       movie\n",
       "438       movie\n",
       "          ...  \n",
       "15475    series\n",
       "15476    series\n",
       "15477    series\n",
       "15478    series\n",
       "15479    series\n",
       "Name: series_or_movie, Length: 14795, dtype: object>"
      ]
     },
     "execution_count": 39,
     "metadata": {},
     "output_type": "execute_result"
    }
   ],
   "source": [
    "nt['series_or_movie'].drop_duplicates"
   ]
  },
  {
   "cell_type": "code",
   "execution_count": 48,
   "id": "f70c7150",
   "metadata": {},
   "outputs": [],
   "source": [
    "group = nt.groupby(['series_or_movie'])\n",
    "years = pd.DataFrame({'Movies':group.get_group('movie').groupby('netflix_release_date_year').count()['title'], \n",
    "                      'Series':group.get_group('series').groupby('netflix_release_date_year').count()['title']})\n",
    "\n",
    "group = nt.groupby(['series_or_movie'])\n",
    "months = pd.DataFrame({'Movies':group.get_group('movie').groupby('month_added').count()['title'], \n",
    "                      'Series':group.get_group('series').groupby('month_added').count()['title']})\n",
    "\n"
   ]
  },
  {
   "cell_type": "code",
   "execution_count": 41,
   "id": "0d2762cd",
   "metadata": {},
   "outputs": [
    {
     "data": {
      "text/plain": [
       "<AxesSubplot:xlabel='netflix_release_date_year'>"
      ]
     },
     "execution_count": 41,
     "metadata": {},
     "output_type": "execute_result"
    },
    {
     "data": {
      "image/png": "[encoded data removed]",
      "text/plain": [
       "<Figure size 432x288 with 1 Axes>"
      ]
     },
     "metadata": {
      "needs_background": "light"
     },
     "output_type": "display_data"
    }
   ],
   "source": [
    "years.plot.bar()"
   ]
  },
  {
   "cell_type": "code",
   "execution_count": 45,
   "id": "5c4b6273",
   "metadata": {},
   "outputs": [
    {
     "data": {
      "text/plain": [
       "<AxesSubplot:xlabel='month_added'>"
      ]
     },
     "execution_count": 45,
     "metadata": {},
     "output_type": "execute_result"
    },
    {
     "data": {
      "image/png": "[encoded data removed]",
      "text/plain": [
       "<Figure size 432x288 with 1 Axes>"
      ]
     },
     "metadata": {
      "needs_background": "light"
     },
     "output_type": "display_data"
    }
   ],
   "source": [
    "months.plot.bar()"
   ]
  },
  {
   "cell_type": "code",
   "execution_count": 89,
   "id": "8bb1769e",
   "metadata": {},
   "outputs": [
    {
     "data": {
      "image/png": "[encoded data removed]",
      "text/plain": [
       "<Figure size 720x432 with 1 Axes>"
      ]
     },
     "metadata": {
      "needs_background": "light"
     },
     "output_type": "display_data"
    },
    {
     "name": "stdout",
     "output_type": "stream",
     "text": [
      "[*********************100%***********************]  1 of 1 completed\n"
     ]
    },
    {
     "data": {
      "text/plain": [
       "(0.0, 800.0)"
      ]
     },
     "execution_count": 89,
     "metadata": {},
     "output_type": "execute_result"
    },
    {
     "data": {
      "image/png": "[encoded data removed]",
      "text/plain": [
       "<Figure size 720x432 with 1 Axes>"
      ]
     },
     "metadata": {
      "needs_background": "light"
     },
     "output_type": "display_data"
    }
   ],
   "source": [
    "plt.plot(years)\n",
    "plt.title (\"Movies & Series by Years\")\n",
    "plt.grid(True, color = 'k', linestyle=':')\n",
    "plt.legend(['Movies','Series'])\n",
    "plt.xlabel(\"Years\")\n",
    "plt.ylabel(\"Count\")\n",
    "plt.show()\n",
    "\n",
    "rcParams['figure.figsize'] = 10,6\n",
    "ticker = ['NFLX']\n",
    "start = dt.datetime(2015,1,1)\n",
    "nflx_data = yf.download(ticker,start )['Close']\n",
    "\n",
    "plt.plot(nflx_data)\n",
    "plt.grid(True, color = 'k', linestyle=':')\n",
    "plt.title(\"Netflix_stocks_rate\")\n",
    "plt.xlabel(\"Date\")\n",
    "plt.ylabel(\"Close_Rate\")\n",
    "plt.ylim(0,800)\n"
   ]
  },
  {
   "cell_type": "markdown",
   "id": "98572cec",
   "metadata": {},
   "source": [
    "Boxoffice vs Scores accross by types (Boxoffice | Rotten Tomatoes Score | Metacritic Score | 'Hidden Gem Score', 'IMDb Score', 'Rotten Tomatoes Score', 'Metacritic Score' | Platform | Score )"
   ]
  }
 ],
 "metadata": {
  "kernelspec": {
   "display_name": "Python 3 (ipykernel)",
   "language": "python",
   "name": "python3"
  },
  "language_info": {
   "codemirror_mode": {
    "name": "ipython",
    "version": 3
   },
   "file_extension": ".py",
   "mimetype": "text/x-python",
   "name": "python",
   "nbconvert_exporter": "python",
   "pygments_lexer": "ipython3",
   "version": "3.10.0"
  }
 },
 "nbformat": 4,
 "nbformat_minor": 5
}
